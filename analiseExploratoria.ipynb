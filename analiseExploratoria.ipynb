{
 "cells": [
  {
   "cell_type": "markdown",
   "id": "c4cd958d",
   "metadata": {},
   "source": [
    "# Analises Exploratoria dos Dados"
   ]
  },
  {
   "cell_type": "markdown",
   "id": "41976bed",
   "metadata": {},
   "source": [
    "## Bibliotecas"
   ]
  },
  {
   "cell_type": "code",
   "execution_count": null,
   "id": "bd4d5627",
   "metadata": {},
   "outputs": [],
   "source": [
    "# importando bibliotecas basicas\n",
    "import pandas as pd\n",
    "import numpy as np\n",
    "import matplotlib.pyplot as plt\n",
    "import seaborn as sns"
   ]
  },
  {
   "cell_type": "markdown",
   "id": "81e32e9f",
   "metadata": {},
   "source": [
    "## Qualidade da imagem"
   ]
  },
  {
   "cell_type": "code",
   "execution_count": null,
   "id": "ba79494d",
   "metadata": {},
   "outputs": [],
   "source": [
    "# definindo a qualidade das imagens\n",
    "plt.rcParams['figure.dpi'] = 500\n",
    "plt.rcParams['savefig.dpi'] = 500"
   ]
  },
  {
   "cell_type": "markdown",
   "id": "d265ec06",
   "metadata": {},
   "source": [
    "## Importando os dados"
   ]
  },
  {
   "cell_type": "code",
   "execution_count": null,
   "id": "1e4cec0a",
   "metadata": {},
   "outputs": [],
   "source": [
    "nomeArquivo = 'dados.xlsx'\n",
    "# importa o arquivo\n",
    "df_xlsx = pd.ExcelFile(nomeArquivo, engine='openpyxl')\n",
    "df = pd.read_excel(df_xlsx)\n",
    "df = df.loc[:, ~df.columns.str.contains('^Unnamed')]\n",
    "df['Data'] = pd.to_datetime(df['Data'])\n",
    "df = df.set_index(['Data'])\n",
    "# remove NaN values\n",
    "df = df.dropna()\n",
    "# retorna df\n",
    "df.head()"
   ]
  },
  {
   "cell_type": "markdown",
   "id": "92f5da18",
   "metadata": {},
   "source": [
    "## Analise do intervalo entre leituras"
   ]
  },
  {
   "cell_type": "code",
   "execution_count": null,
   "id": "9c07f8c2",
   "metadata": {},
   "outputs": [],
   "source": [
    "dfData = pd.DataFrame()\n",
    "dfData['Data'] = df.index\n",
    "dfData['Dias entre Leituras'] = dfData['Data'].diff(1)\n",
    "dfData = dfData.dropna()\n",
    "dfData['Dias entre Leituras num'] = dfData['Dias entre Leituras'].dt.days"
   ]
  },
  {
   "cell_type": "code",
   "execution_count": null,
   "id": "f351efa0",
   "metadata": {},
   "outputs": [],
   "source": [
    "dfData.describe()"
   ]
  },
  {
   "cell_type": "code",
   "execution_count": null,
   "id": "a1625df8",
   "metadata": {},
   "outputs": [],
   "source": [
    "f, ax = plt.subplots(figsize = (5, 5))\n",
    "dfData['Dias entre Leituras'].astype('timedelta64[D]').plot.hist(bins=20)\n",
    "plt.xlabel(\"Intervalo de dias entre leituras consecutivas\")\n",
    "plt.ylabel(\"Frequência\")\n",
    "plt.xticks(rotation=45);"
   ]
  },
  {
   "cell_type": "code",
   "execution_count": null,
   "id": "bce9138e",
   "metadata": {},
   "outputs": [],
   "source": [
    "dfData"
   ]
  },
  {
   "cell_type": "code",
   "execution_count": null,
   "id": "bd78b69c",
   "metadata": {},
   "outputs": [],
   "source": [
    "limiteInferior = 10\n",
    "limiteSuperior = 20\n",
    "dfDataAnomalia = dfData.loc[(dfData['Dias entre Leituras num'] >= limiteInferior) & (dfData['Dias entre Leituras num'] <= limiteSuperior)]\n",
    "numAnomalia = len(dfData)\n",
    "numLeituras = len(df)\n",
    "porcentagemAnomalias = numAnomalia /numLeituras\n",
    "porcentagemAnomalias"
   ]
  },
  {
   "cell_type": "code",
   "execution_count": null,
   "id": "caa3ab41",
   "metadata": {},
   "outputs": [],
   "source": [
    "f, ax = plt.subplots(figsize = (5, 5))\n",
    "dfDataAnomalia['Dias entre Leituras'].astype('timedelta64[D]').plot.hist(bins=20)\n",
    "plt.xlabel(\"Intervalo de dias entre leituras consecutivas\")\n",
    "plt.ylabel(\"Frequência\")\n",
    "plt.xticks(rotation=45);"
   ]
  },
  {
   "cell_type": "markdown",
   "id": "008152c3",
   "metadata": {},
   "source": [
    "## Analise exploratoria das leituras"
   ]
  },
  {
   "cell_type": "code",
   "execution_count": null,
   "id": "31919702",
   "metadata": {},
   "outputs": [],
   "source": [
    "df.describe()"
   ]
  },
  {
   "cell_type": "code",
   "execution_count": null,
   "id": "ea084059",
   "metadata": {},
   "outputs": [],
   "source": [
    "f, ax1 = plt.subplots(figsize = (6, 5))\n",
    "sns.lineplot(x=df.index, y='PZA', data=df, label='PZA')\n",
    "sns.lineplot(x=df.index, y='NA', data=df, label='NA')\n",
    "plt.ylabel(\"Cota (m)\");\n",
    "plt.xlabel(\"Ano\");"
   ]
  },
  {
   "cell_type": "code",
   "execution_count": null,
   "id": "e5d58fa5",
   "metadata": {},
   "outputs": [],
   "source": [
    "f, ax1 = plt.subplots(figsize = (6, 5))\n",
    "sns.lineplot(x=df.index, y='PZA', data=df, label='PZA')\n",
    "sns.lineplot(x=df.index, y='NA', data=df, label='NA')\n",
    "plt.ylabel(\"Elevation (m)\");\n",
    "plt.xlabel(\"Year\");"
   ]
  },
  {
   "cell_type": "markdown",
   "id": "c7ae09b1",
   "metadata": {},
   "source": [
    "## Analise de autocorrelação"
   ]
  },
  {
   "cell_type": "code",
   "execution_count": null,
   "id": "3223c3e7",
   "metadata": {},
   "outputs": [],
   "source": [
    "dfAutoCorrelacao = pd.DataFrame()\n",
    "# Copia os dados\n",
    "dfAutoCorrelacao['t'] = df['PZA']\n",
    "# Cria as leituras do instante t-1, t-2 e t-3\n",
    "dfAutoCorrelacao['t-1'] = dfAutoCorrelacao['t'].shift(1)\n",
    "# remove os NaN values\n",
    "dfAutoCorrelacao = dfAutoCorrelacao.dropna()\n",
    "# Retorna o df de autocorrelacao\n",
    "dfAutoCorrelacao.head()"
   ]
  },
  {
   "cell_type": "code",
   "execution_count": null,
   "id": "9bddde74",
   "metadata": {},
   "outputs": [],
   "source": [
    "df.head()"
   ]
  },
  {
   "cell_type": "code",
   "execution_count": null,
   "id": "a0392721",
   "metadata": {},
   "outputs": [],
   "source": [
    "# analise de correlacao\n",
    "matrizCorrelacao = dfAutoCorrelacao.corr()\n",
    "# retorna a matrix de autocorrelacao\n",
    "matrizCorrelacao"
   ]
  },
  {
   "cell_type": "code",
   "execution_count": null,
   "id": "4a43e395",
   "metadata": {},
   "outputs": [],
   "source": [
    "# grafico de autocorrelacao dos instantes t e t-1\n",
    "fig, ax1 = plt.subplots(figsize = (5, 5))\n",
    "sns.scatterplot(x='t-1', y='t', data=dfAutoCorrelacao, ax=ax1)\n",
    "plt.ylabel('PZA Reading at T')\n",
    "plt.xlabel('PZA Reading at T-1');"
   ]
  },
  {
   "cell_type": "markdown",
   "id": "d852e8a5",
   "metadata": {},
   "source": [
    "## Analise da taxa de variacao"
   ]
  },
  {
   "cell_type": "code",
   "execution_count": null,
   "id": "579d12d7",
   "metadata": {},
   "outputs": [],
   "source": [
    "dfTaxaVariacao = pd.DataFrame()\n",
    "dfTaxaVariacao['x'] = df['PZA']\n",
    "dfTaxaVariacao['taxaVariacao'] = dfTaxaVariacao['x'].diff(1)\n",
    "dfTaxaVariacao['taxaVariacaoAbsoluta'] = abs(dfTaxaVariacao['taxaVariacao'])"
   ]
  },
  {
   "cell_type": "code",
   "execution_count": null,
   "id": "c076f8a2",
   "metadata": {},
   "outputs": [],
   "source": [
    "f, ax = plt.subplots(figsize = (5, 5))\n",
    "dfTaxaVariacao['taxaVariacaoAbsoluta'].plot.hist(bins=20)\n",
    "plt.xlabel(\"Taxa de variação absoluta entre leituras consecutivas\")\n",
    "plt.ylabel(\"Frequência\")\n",
    "plt.xticks(rotation=45);"
   ]
  },
  {
   "cell_type": "code",
   "execution_count": null,
   "id": "8fc9725e",
   "metadata": {},
   "outputs": [],
   "source": [
    "dfTaxaVariacao"
   ]
  },
  {
   "cell_type": "code",
   "execution_count": null,
   "id": "f99429b2",
   "metadata": {},
   "outputs": [],
   "source": [
    "limite = 0.17\n",
    "dfTaxaVariacaoAnomalia = dfTaxaVariacao.loc[dfTaxaVariacao['taxaVariacaoAbsoluta'] >= limite]\n",
    "numAnomalia = len(dfTaxaVariacaoAnomalia)\n",
    "numLeituras = len(df)\n",
    "porcentagemAnomalias = numAnomalia /numLeituras\n",
    "porcentagemAnomalias"
   ]
  }
 ],
 "metadata": {
  "kernelspec": {
   "display_name": "Python 3",
   "language": "python",
   "name": "python3"
  },
  "language_info": {
   "codemirror_mode": {
    "name": "ipython",
    "version": 3
   },
   "file_extension": ".py",
   "mimetype": "text/x-python",
   "name": "python",
   "nbconvert_exporter": "python",
   "pygments_lexer": "ipython3",
   "version": "3.8.8"
  }
 },
 "nbformat": 4,
 "nbformat_minor": 5
}
