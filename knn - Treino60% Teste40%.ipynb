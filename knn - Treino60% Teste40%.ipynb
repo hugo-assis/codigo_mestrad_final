{
 "cells": [
  {
   "cell_type": "markdown",
   "id": "a881b077",
   "metadata": {},
   "source": [
    "# Modelo KNN"
   ]
  },
  {
   "cell_type": "markdown",
   "id": "99360e92",
   "metadata": {},
   "source": [
    "## Importando bibliotecas"
   ]
  },
  {
   "cell_type": "code",
   "execution_count": null,
   "id": "0af6d6d7",
   "metadata": {},
   "outputs": [],
   "source": [
    "# Importando bibliotecas basicas\n",
    "import pandas as pd\n",
    "import numpy as np\n",
    "import matplotlib.pyplot as plt\n",
    "import seaborn as sns\n",
    "\n",
    "# knn\n",
    "from sklearn.neighbors import KNeighborsRegressor \n",
    "\n",
    "# Metricas de avaliaçao\n",
    "from sklearn.metrics import r2_score\n",
    "from sklearn.metrics import mean_squared_error\n",
    "from sklearn.metrics import mean_absolute_error\n",
    "\n",
    "# importando biblioteca para dividir em train e test\n",
    "from sklearn.model_selection import train_test_split"
   ]
  },
  {
   "cell_type": "markdown",
   "id": "0d98db75",
   "metadata": {},
   "source": [
    "## Qualidade da imagem"
   ]
  },
  {
   "cell_type": "code",
   "execution_count": null,
   "id": "71d88802",
   "metadata": {},
   "outputs": [],
   "source": [
    "# definindo a qualidade das imagens\n",
    "plt.rcParams['figure.dpi'] = 500\n",
    "plt.rcParams['savefig.dpi'] = 500"
   ]
  },
  {
   "cell_type": "markdown",
   "id": "764c6ff2",
   "metadata": {},
   "source": [
    "## Importando os dados"
   ]
  },
  {
   "cell_type": "code",
   "execution_count": null,
   "id": "ed1403f3",
   "metadata": {},
   "outputs": [],
   "source": [
    "nomeArquivo = 'dados.xlsx'\n",
    "# importa o arquivo\n",
    "df_xlsx = pd.ExcelFile(nomeArquivo, engine='openpyxl')\n",
    "df = pd.read_excel(df_xlsx)\n",
    "df = df.loc[:, ~df.columns.str.contains('^Unnamed')]\n",
    "df['Data'] = pd.to_datetime(df['Data'])\n",
    "df = df.set_index(['Data'])\n",
    "# remove NaN values\n",
    "df = df.dropna()\n",
    "# retorna df\n",
    "df.head()"
   ]
  },
  {
   "cell_type": "markdown",
   "id": "535a157c",
   "metadata": {},
   "source": [
    "## KNN"
   ]
  },
  {
   "cell_type": "code",
   "execution_count": null,
   "id": "de9618e3",
   "metadata": {},
   "outputs": [],
   "source": [
    "dfAnalise = pd.DataFrame()\n",
    "# Copia os dados\n",
    "dfAnalise['y'] = df['PZA']\n",
    "# Cria as leituras do instante t-1\n",
    "dfAnalise['x'] = dfAnalise['y'].shift(1)\n",
    "dfAnalise = dfAnalise.dropna()\n",
    "# retorna o df de analise\n",
    "dfAnalise.head()"
   ]
  },
  {
   "cell_type": "markdown",
   "id": "08ab8368",
   "metadata": {},
   "source": [
    "## Treino e teste - 60/40"
   ]
  },
  {
   "cell_type": "code",
   "execution_count": null,
   "id": "147bc778",
   "metadata": {},
   "outputs": [],
   "source": [
    "# dividindo o banco em treino e teste\n",
    "porcentagemTreino = 0.60\n",
    "\n",
    "porcentagemTeste = 1 - porcentagemTreino\n",
    "xTreino, xTeste, yTreino, yTeste = train_test_split(dfAnalise['x'],\n",
    "                                                   dfAnalise['y'],\n",
    "                                                   test_size = porcentagemTeste,\n",
    "                                                   random_state=21)\n",
    "xTreinoReshaped = np.array(xTreino).reshape((-1, 1))\n",
    "xTesteReshaped = np.array(xTeste).reshape((-1, 1))"
   ]
  },
  {
   "cell_type": "code",
   "execution_count": null,
   "id": "b0cfc967",
   "metadata": {},
   "outputs": [],
   "source": [
    "# Calibrando o modelo\n",
    "# arrays para guardar os resultados\n",
    "listaNumeroVizinhos = np.empty(0)\n",
    "listaCoeficienteDeterminacaoTreino = np.empty(0)\n",
    "listaCoeficienteDeterminicaoTeste = np.empty(0)\n",
    "listaRMSETreino = np.empty(0)\n",
    "listaRMSETeste = np.empty(0)\n",
    "listeMAETreino = np.empty(0)\n",
    "listaMAETeste = np.empty(0)\n",
    "# modelo\n",
    "for numeroVizinho in np.arange(2, 40, 1):\n",
    "    knn = KNeighborsRegressor(n_neighbors = numeroVizinho)\n",
    "    # salvando o numero de vizinhos\n",
    "    listaNumeroVizinhos = np.append(listaNumeroVizinhos, numeroVizinho)\n",
    "    knn.fit(xTreinoReshaped,yTreino)\n",
    "    # predizendo valores\n",
    "    yTreinoPredito = knn.predict(xTreinoReshaped)\n",
    "    yTestePredito = knn.predict(xTesteReshaped) \n",
    "    # Avaliacao dos resultados coeficente de determinacao\n",
    "    coeficienteDeterminacaoTreino = r2_score(yTreino, yTreinoPredito) \n",
    "    coeficienteDeterminacaoTeste = r2_score(yTeste, yTestePredito)\n",
    "    # salvando coeficientes\n",
    "    listaCoeficienteDeterminacaoTreino = np.append(listaCoeficienteDeterminacaoTreino, coeficienteDeterminacaoTreino)\n",
    "    listaCoeficienteDeterminicaoTeste = np.append(listaCoeficienteDeterminicaoTeste, coeficienteDeterminacaoTeste)\n",
    "    # RMSE\n",
    "    rmseTreino = mean_squared_error(yTreino,yTreinoPredito,squared=False) \n",
    "    rmseTeste = mean_squared_error(yTeste,yTestePredito,squared=False) \n",
    "    listaRMSETreino = np.append(listaRMSETreino, rmseTreino)\n",
    "    listaRMSETeste = np.append(listaRMSETeste, rmseTeste)\n",
    "    #MAE\n",
    "    maeTreino = mean_absolute_error(yTreino,yTreinoPredito) \n",
    "    maeTeste = mean_absolute_error(yTeste,yTestePredito)\n",
    "    listeMAETreino = np.append(listeMAETreino, maeTreino)\n",
    "    listaMAETeste = np.append(listaMAETeste, maeTeste)\n",
    "# grafico de calibracao\n",
    "fig, ax1 = plt.subplots(figsize=(5,5))\n",
    "plt.scatter(listaNumeroVizinhos, listaCoeficienteDeterminacaoTreino, label='Treino')\n",
    "plt.scatter(listaNumeroVizinhos, listaCoeficienteDeterminicaoTeste, label='Teste')\n",
    "plt.legend()\n",
    "plt.xlabel('Número de vizinhos')\n",
    "plt.ylabel('Coeficiente de determinação')\n",
    "plt.title('Avaliação do número de vizinhos - Distância Euclidiana')\n",
    "plt.show();"
   ]
  },
  {
   "cell_type": "code",
   "execution_count": null,
   "id": "e62439ac",
   "metadata": {},
   "outputs": [],
   "source": [
    "# diferenca entre os coeficientes\n",
    "listaDiferencaCoeficientes = listaCoeficienteDeterminacaoTreino - listaCoeficienteDeterminicaoTeste\n",
    "# grafico\n",
    "plt.scatter(listaNumeroVizinhos, listaDiferencaCoeficientes)\n",
    "plt.xlabel('Número de vizinhos')\n",
    "plt.ylabel('Diferença entres os coeficientes de determinação de treino e teste')\n",
    "plt.title('Avaliação do número de vizinhos - Distância Euclidiana')\n",
    "plt.show();"
   ]
  },
  {
   "cell_type": "code",
   "execution_count": null,
   "id": "86a69126",
   "metadata": {},
   "outputs": [],
   "source": [
    "# Modelo\n",
    "\n",
    "# iniciando o modelo\n",
    "knn = KNeighborsRegressor(n_neighbors = 10)\n",
    "# treinando o modelo\n",
    "knn.fit(xTreinoReshaped,yTreino)\n",
    "\n",
    "# Avaliando o modelo\n",
    "# predizendo valores\n",
    "yTreinoPredito = knn.predict(xTreinoReshaped)\n",
    "yTestePredito = knn.predict(xTesteReshaped) \n",
    "# Avaliacao dos resultados coeficente de determinacao\n",
    "coeficienteDeterminacaoTreino = r2_score(yTreino, yTreinoPredito) \n",
    "print(f\"O coeficiente de determinação do banco de treino é {coeficienteDeterminacaoTreino}\")\n",
    "coeficienteDeterminacaoTeste = r2_score(yTeste, yTestePredito)\n",
    "print(f\"O coeficiente de determinação do banco de teste é {coeficienteDeterminacaoTeste}\")\n",
    "print('-------------------------------------')\n",
    "# Avaliacao dos resultados RMSE\n",
    "rmseTreino = mean_squared_error(yTreino,yTreinoPredito,squared=False) \n",
    "print(f\"O RMSE do banco de treino é {rmseTreino}\")\n",
    "rmseTeste = mean_squared_error(yTeste,yTestePredito,squared=False) \n",
    "print(f\"O RMSE do banco de teste é {rmseTeste}\")\n",
    "print('-------------------------------------')\n",
    "# Avaliacao dos resultados MAE\n",
    "maeTreino = mean_absolute_error(yTreino,yTreinoPredito) \n",
    "print(f\"O MAE do banco de treino é {maeTreino}\")\n",
    "maeTeste = mean_absolute_error(yTeste,yTestePredito)\n",
    "print(f\"O MAE do banco de teste é {maeTeste}\")"
   ]
  },
  {
   "cell_type": "code",
   "execution_count": null,
   "id": "e732d08f",
   "metadata": {},
   "outputs": [],
   "source": [
    "# grafico de autocorrelacao dos instantes t e t-1\n",
    "fig, ax1 = plt.subplots(figsize = (5, 5))\n",
    "sns.scatterplot(x='x', y='y', data=dfAnalise, ax=ax1)\n",
    "ax1.scatter(xTreino, yTreinoPredito, color='red')\n",
    "ax1.scatter(xTeste, yTestePredito, color='green')\n",
    "plt.ylabel('Instante t')\n",
    "plt.xlabel('Instante t-1');"
   ]
  }
 ],
 "metadata": {
  "kernelspec": {
   "display_name": "Python 3",
   "language": "python",
   "name": "python3"
  },
  "language_info": {
   "codemirror_mode": {
    "name": "ipython",
    "version": 3
   },
   "file_extension": ".py",
   "mimetype": "text/x-python",
   "name": "python",
   "nbconvert_exporter": "python",
   "pygments_lexer": "ipython3",
   "version": "3.8.8"
  }
 },
 "nbformat": 4,
 "nbformat_minor": 5
}
